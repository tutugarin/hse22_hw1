{
 "cells": [
  {
   "cell_type": "code",
   "execution_count": 3,
   "metadata": {},
   "outputs": [],
   "source": [
    "import re\n",
    "\n",
    "def get_info(f, text, mode = True):\n",
    "    if mode:\n",
    "        print(f'Анализ {text}:\\n')\n",
    "    lengths = []\n",
    "    total_len = 0\n",
    "    num = 0\n",
    "    max_len = 0\n",
    "    length = 0\n",
    "    max_sequence = ''\n",
    "    curr_sequence = ''\n",
    "    for line in f:\n",
    "        if (line[0] == '>'):\n",
    "            if num != 0:\n",
    "                lengths.append(length)\n",
    "            num += 1\n",
    "            if length >= max_len:\n",
    "                max_len = length\n",
    "                max_sequence = curr_sequence\n",
    "            curr_sequence = ''\n",
    "            length = 0\n",
    "        else:\n",
    "            curr_sequence += line.strip()\n",
    "            length += len(line.strip())\n",
    "            total_len += len(line.strip())\n",
    "    if mode:      \n",
    "        print(f'Общее количество: {num},\\nОбщая длина: {total_len},\\nДлина самого длинного: {max_len},')\n",
    "        score = 0\n",
    "        lengths.sort(reverse = True) \n",
    "        for i in lengths:\n",
    "            score += i\n",
    "            if score >= total_len / 2:\n",
    "                print(f'N50: {i}\\n')\n",
    "                break\n",
    "    return max_sequence"
   ]
  },
  {
   "cell_type": "code",
   "execution_count": 8,
   "metadata": {},
   "outputs": [
    {
     "name": "stdout",
     "output_type": "stream",
     "text": [
      "Анализ контигов:\n",
      "\n",
      "Общее количество: 619,\n",
      "Общая длина: 3925099,\n",
      "Длина самого длинного: 179307,\n",
      "N50: 52799\n",
      "\n"
     ]
    }
   ],
   "source": [
    "file = open('../data/Poil_contig.fa', 'r')\n",
    "_ = get_info(file, 'контигов')"
   ]
  },
  {
   "cell_type": "code",
   "execution_count": 9,
   "metadata": {},
   "outputs": [
    {
     "name": "stdout",
     "output_type": "stream",
     "text": [
      "Анализ скаффолдов:\n",
      "\n",
      "Общее количество: 67,\n",
      "Общая длина: 3872365,\n",
      "Длина самого длинного: 3833054,\n",
      "N50: 3833054\n",
      "\n",
      "Количество гэпов:  66\n",
      "Общая длина гэпов: 6273\n"
     ]
    }
   ],
   "source": [
    "file = open('../data/Poil_scaffold.fa', 'r')\n",
    "max_scaff = get_info(file, 'скаффолдов')\n",
    "print('Количество гэпов: ', re.sub(r'N{2,}', 'N', max_scaff).count(\"N\"))\n",
    "print(f'Общая длина гэпов: {max_scaff.count(\"N\")}')"
   ]
  },
  {
   "cell_type": "code",
   "execution_count": 10,
   "metadata": {},
   "outputs": [
    {
     "name": "stdout",
     "output_type": "stream",
     "text": [
      "Количество гэпов:  9\n",
      "Общая длина гэпов: 1766\n"
     ]
    }
   ],
   "source": [
    "file = open('../data/Poil_gapClosed.fa', 'r')\n",
    "max_scaff = get_info(file, 'скаффолдов', False)\n",
    "print('Количество гэпов: ', re.sub(r'N{2,}', 'N', max_scaff).count(\"N\"))\n",
    "print(f'Общая длина гэпов: {max_scaff.count(\"N\")}')"
   ]
  }
 ],
 "metadata": {
  "kernelspec": {
   "display_name": "Python 3.10.0 64-bit",
   "language": "python",
   "name": "python3"
  },
  "language_info": {
   "codemirror_mode": {
    "name": "ipython",
    "version": 3
   },
   "file_extension": ".py",
   "mimetype": "text/x-python",
   "name": "python",
   "nbconvert_exporter": "python",
   "pygments_lexer": "ipython3",
   "version": "3.10.0"
  },
  "vscode": {
   "interpreter": {
    "hash": "aee8b7b246df8f9039afb4144a1f6fd8d2ca17a180786b69acc140d282b71a49"
   }
  }
 },
 "nbformat": 4,
 "nbformat_minor": 2
}
